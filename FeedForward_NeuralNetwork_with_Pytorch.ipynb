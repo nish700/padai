{
  "nbformat": 4,
  "nbformat_minor": 0,
  "metadata": {
    "colab": {
      "name": "FeedForward_NeuralNetwork_with_Pytorch.ipynb",
      "provenance": [],
      "collapsed_sections": [
        "43tvGsTFm15w",
        "2i-qnG3bm9cn",
        "4QuT3ydDnOqH"
      ],
      "include_colab_link": true
    },
    "kernelspec": {
      "name": "python3",
      "display_name": "Python 3"
    },
    "accelerator": "GPU"
  },
  "cells": [
    {
      "cell_type": "markdown",
      "metadata": {
        "id": "view-in-github",
        "colab_type": "text"
      },
      "source": [
        "<a href=\"https://colab.research.google.com/github/nish700/padai/blob/master/FeedForward_NeuralNetwork_with_Pytorch.ipynb\" target=\"_parent\"><img src=\"https://colab.research.google.com/assets/colab-badge.svg\" alt=\"Open In Colab\"/></a>"
      ]
    },
    {
      "cell_type": "markdown",
      "metadata": {
        "id": "43tvGsTFm15w",
        "colab_type": "text"
      },
      "source": [
        "# importing the libraries"
      ]
    },
    {
      "cell_type": "code",
      "metadata": {
        "id": "yeY8XCvtzOon",
        "colab_type": "code",
        "colab": {}
      },
      "source": [
        "import numpy as np\n",
        "import pandas as pd\n",
        "import matplotlib\n",
        "import matplotlib.pyplot as plt\n",
        "from sklearn.model_selection import train_test_split\n",
        "from sklearn.preprocessing import OneHotEncoder\n",
        "from sklearn.metrics import accuracy_score, mean_squared_error , log_loss\n",
        "from sklearn.datasets import make_blobs\n",
        "import math\n",
        "import time\n",
        "import torch\n"
      ],
      "execution_count": 0,
      "outputs": []
    },
    {
      "cell_type": "markdown",
      "metadata": {
        "id": "2i-qnG3bm9cn",
        "colab_type": "text"
      },
      "source": [
        "# Data Upload and Visualization"
      ]
    },
    {
      "cell_type": "code",
      "metadata": {
        "id": "ZTJVmYaB0VCW",
        "colab_type": "code",
        "outputId": "54194798-f675-4634-f382-5ad412f121c1",
        "colab": {
          "base_uri": "https://localhost:8080/",
          "height": 35
        }
      },
      "source": [
        "torch.manual_seed(0)"
      ],
      "execution_count": 4,
      "outputs": [
        {
          "output_type": "execute_result",
          "data": {
            "text/plain": [
              "<torch._C.Generator at 0x7f11242d9950>"
            ]
          },
          "metadata": {
            "tags": []
          },
          "execution_count": 4
        }
      ]
    },
    {
      "cell_type": "code",
      "metadata": {
        "id": "qUW9rMFC1Wf6",
        "colab_type": "code",
        "colab": {}
      },
      "source": [
        "my_cmap = matplotlib.colors.LinearSegmentedColormap.from_list(\"\",['red','yellow','green'])"
      ],
      "execution_count": 0,
      "outputs": []
    },
    {
      "cell_type": "code",
      "metadata": {
        "id": "AzdTWxc810Vl",
        "colab_type": "code",
        "colab": {}
      },
      "source": [
        "data, labels = make_blobs(n_samples=1000,centers=4, n_features=2, random_state=0)"
      ],
      "execution_count": 0,
      "outputs": []
    },
    {
      "cell_type": "code",
      "metadata": {
        "id": "0fBiZ4Hd38-V",
        "colab_type": "code",
        "outputId": "7f7d415f-e88e-4b32-a9f4-a954e3c774ee",
        "colab": {
          "base_uri": "https://localhost:8080/",
          "height": 35
        }
      },
      "source": [
        "print(data.shape, labels.shape)"
      ],
      "execution_count": 7,
      "outputs": [
        {
          "output_type": "stream",
          "text": [
            "(1000, 2) (1000,)\n"
          ],
          "name": "stdout"
        }
      ]
    },
    {
      "cell_type": "code",
      "metadata": {
        "id": "QbSybCe94GML",
        "colab_type": "code",
        "outputId": "486bf2c1-1476-412e-c679-4a0adfe1c3c6",
        "colab": {
          "base_uri": "https://localhost:8080/",
          "height": 283
        }
      },
      "source": [
        "plt.scatter(data[:,0],data[:,1], c = labels, cmap=my_cmap)"
      ],
      "execution_count": 8,
      "outputs": [
        {
          "output_type": "execute_result",
          "data": {
            "text/plain": [
              "<matplotlib.collections.PathCollection at 0x7f1123dc7b00>"
            ]
          },
          "metadata": {
            "tags": []
          },
          "execution_count": 8
        },
        {
          "output_type": "display_data",
          "data": {
            "image/png": "[encoded data removed]",
            "text/plain": [
              "<Figure size 432x288 with 1 Axes>"
            ]
          },
          "metadata": {
            "tags": []
          }
        }
      ]
    },
    {
      "cell_type": "markdown",
      "metadata": {
        "id": "4QuT3ydDnOqH",
        "colab_type": "text"
      },
      "source": [
        "# Splitting the data into test and train sets"
      ]
    },
    {
      "cell_type": "code",
      "metadata": {
        "id": "rTR_xd5p4SqI",
        "colab_type": "code",
        "outputId": "db9b419d-8886-4915-d51d-96ac38fd1685",
        "colab": {
          "base_uri": "https://localhost:8080/",
          "height": 35
        }
      },
      "source": [
        "X_train, X_val, Y_train, Y_val = train_test_split(data, labels, stratify=labels, random_state=0)\n",
        "print(X_train.shape, X_val.shape, Y_train.shape, Y_val.shape)"
      ],
      "execution_count": 9,
      "outputs": [
        {
          "output_type": "stream",
          "text": [
            "(750, 2) (250, 2) (750,) (250,)\n"
          ],
          "name": "stdout"
        }
      ]
    },
    {
      "cell_type": "markdown",
      "metadata": {
        "id": "3k7kdjKXnYnL",
        "colab_type": "text"
      },
      "source": [
        "# converting the data into tensor"
      ]
    },
    {
      "cell_type": "code",
      "metadata": {
        "id": "uEygMo-15H83",
        "colab_type": "code",
        "outputId": "47c803b2-7831-47ff-84c7-1c0c0f20cbc7",
        "colab": {
          "base_uri": "https://localhost:8080/",
          "height": 35
        }
      },
      "source": [
        "X_train, X_val, Y_train, Y_val = map(torch.tensor, (X_train, X_val, Y_train, Y_val))\n",
        "print(X_train.shape, Y_train.shape)"
      ],
      "execution_count": 10,
      "outputs": [
        {
          "output_type": "stream",
          "text": [
            "torch.Size([750, 2]) torch.Size([750])\n"
          ],
          "name": "stdout"
        }
      ]
    },
    {
      "cell_type": "markdown",
      "metadata": {
        "id": "xS6-dNsPngQz",
        "colab_type": "text"
      },
      "source": [
        "# defining the model"
      ]
    },
    {
      "cell_type": "code",
      "metadata": {
        "id": "HKBIHkLz5dYD",
        "colab_type": "code",
        "colab": {}
      },
      "source": [
        "# the model is simple 2 layered, first layer having 2 neurons while , the second layer having 4 neurons\n",
        "def model(x):\n",
        "  a1 = torch.matmul(x, weights1) + bias1 # (N,2) * (2,2) --> (N,2)\n",
        "  h1 = a1.sigmoid() # (N,2)\n",
        "  a2 = torch.matmul(h1, weights2) + bias2 # (N,2) * (2,4) --> (N,4)\n",
        "  h2 = a2.exp()/a2.exp().sum(-1).unsqueeze(-1) # softmax \n",
        "  ##tensor.unsqueeze appends 1 at the specified location\n",
        "  return h2"
      ],
      "execution_count": 0,
      "outputs": []
    },
    {
      "cell_type": "markdown",
      "metadata": {
        "id": "ORdjK3Wun58u",
        "colab_type": "text"
      },
      "source": [
        "# defining the target"
      ]
    },
    {
      "cell_type": "code",
      "metadata": {
        "id": "we5Wtd3rY7_n",
        "colab_type": "code",
        "colab": {}
      },
      "source": [
        "y_hat = torch.tensor([[0.1,0.2,0.3,0.4],[0.8,0.1,0.05,0.05]])\n",
        "y = torch.tensor([2,0])"
      ],
      "execution_count": 0,
      "outputs": []
    },
    {
      "cell_type": "markdown",
      "metadata": {
        "id": "muoReiPIn-X5",
        "colab_type": "text"
      },
      "source": [
        "#defining the loss function"
      ]
    },
    {
      "cell_type": "code",
      "metadata": {
        "id": "vK-LqDReV_8-",
        "colab_type": "code",
        "colab": {}
      },
      "source": [
        "def loss_fn(y_hat,y):\n",
        "  return -(y_hat[range(y.shape[0]),y].log()).mean()"
      ],
      "execution_count": 0,
      "outputs": []
    },
    {
      "cell_type": "markdown",
      "metadata": {
        "id": "7wXJrUbjoDWj",
        "colab_type": "text"
      },
      "source": [
        "# defining the accuracy function"
      ]
    },
    {
      "cell_type": "code",
      "metadata": {
        "id": "hehFJXt3mqnC",
        "colab_type": "code",
        "colab": {}
      },
      "source": [
        "def accuracy(y_hat, y):\n",
        "  pred = torch.argmax(y_hat, dim=1)\n",
        "  return (pred==y).float().mean()\n"
      ],
      "execution_count": 0,
      "outputs": []
    },
    {
      "cell_type": "markdown",
      "metadata": {
        "id": "lEh3L9BtoXTq",
        "colab_type": "text"
      },
      "source": [
        "# calculating the loss and accuracy and plotting"
      ]
    },
    {
      "cell_type": "code",
      "metadata": {
        "id": "UZ_CTYDsm9_P",
        "colab_type": "code",
        "colab": {
          "base_uri": "https://localhost:8080/",
          "height": 316
        },
        "outputId": "2a3587fc-f0b7-42ae-ab9d-170009eaede3"
      },
      "source": [
        "torch.manual_seed(0)\n",
        "weights1 = torch.randn(2,2)/ math.sqrt(2)\n",
        "weights1.requires_grad_()\n",
        "bias1 = torch.zeros(2, requires_grad=True)\n",
        "weights2 = torch.randn(2,4)/ math.sqrt(2)\n",
        "weights2.requires_grad_()\n",
        "bias2 = torch.zeros(4,requires_grad=True)\n",
        "\n",
        "learning_rate = 0.2\n",
        "epochs = 10000\n",
        "\n",
        "X_train = X_train.float()\n",
        "Y_train = Y_train.long()\n",
        "\n",
        "loss_arr = []\n",
        "acc_arr = []\n",
        "\n",
        "for epoch in range(epochs):\n",
        "  y_hat = model(X_train)\n",
        "  loss = loss_fn(y_hat, Y_train)\n",
        "  loss.backward()\n",
        "  loss_arr.append(loss.item())\n",
        "  acc_arr.append(accuracy(y_hat,Y_train))\n",
        "\n",
        "  with torch.no_grad():\n",
        "    weights1 -= weights1.grad * learning_rate\n",
        "    bias1 -= bias1.grad * learning_rate\n",
        "    weights2 -= weights2.grad * learning_rate\n",
        "    bias2 -= bias2.grad * learning_rate\n",
        "    weights1.grad.zero_()\n",
        "    bias1.grad.zero_()\n",
        "    weights2.grad.zero_()\n",
        "    bias2.grad.zero_()\n",
        "\n",
        "plt.plot(loss_arr,'r-')\n",
        "plt.plot(acc_arr,'b-')\n",
        "plt.xlabel(\"no. of epochs\")\n",
        "plt.show()\n",
        "\n",
        "print('loss before training',loss_arr[0])\n",
        "print('loss after training', loss_arr[-1])"
      ],
      "execution_count": 15,
      "outputs": [
        {
          "output_type": "display_data",
          "data": {
            "image/png": "[encoded data removed]",
            "text/plain": [
              "<Figure size 432x288 with 1 Axes>"
            ]
          },
          "metadata": {
            "tags": []
          }
        },
        {
          "output_type": "stream",
          "text": [
            "loss before training 1.5456441640853882\n",
            "loss after training 0.19288592040538788\n"
          ],
          "name": "stdout"
        }
      ]
    },
    {
      "cell_type": "markdown",
      "metadata": {
        "id": "f9BF05IyQ80n",
        "colab_type": "text"
      },
      "source": [
        "# Using NN.functional"
      ]
    },
    {
      "cell_type": "markdown",
      "metadata": {
        "id": "tnrJAZZ_onrD",
        "colab_type": "text"
      },
      "source": [
        "##importing functional library of nn"
      ]
    },
    {
      "cell_type": "code",
      "metadata": {
        "id": "zdZBsaE8Blag",
        "colab_type": "code",
        "colab": {}
      },
      "source": [
        "import torch.nn.functional as F"
      ],
      "execution_count": 0,
      "outputs": []
    },
    {
      "cell_type": "markdown",
      "metadata": {
        "id": "H48yfIpCoxKP",
        "colab_type": "text"
      },
      "source": [
        "## calculating the loss and accuracy using nn.functional"
      ]
    },
    {
      "cell_type": "code",
      "metadata": {
        "id": "5U-EqJUuRHMs",
        "colab_type": "code",
        "colab": {
          "base_uri": "https://localhost:8080/",
          "height": 300
        },
        "outputId": "85b40657-2459-4c5a-ce0a-74d45e633675"
      },
      "source": [
        "torch.manual_seed(0)\n",
        "weights1 = torch.randn(2,2)/ math.sqrt(2)\n",
        "weights1.requires_grad_()\n",
        "bias1 = torch.zeros(2, requires_grad = True)\n",
        "weights2 = torch.randn(2,4)/ math.sqrt(2)\n",
        "weights2.requires_grad_()\n",
        "bias2 = torch.zeros(4, requires_grad= True)\n",
        "\n",
        "learning_rate = 0.3\n",
        "epochs = 10000\n",
        "\n",
        "X_train = X_train.float()\n",
        "Y_train = Y_train.long()\n",
        "\n",
        "loss_arr = []\n",
        "accu_arr = []\n",
        "\n",
        "for epoch in range(epochs):\n",
        "  y_hat = model(X_train)\n",
        "  loss = F.cross_entropy(y_hat, Y_train)\n",
        "  loss.backward()\n",
        "  loss_arr.append(loss.item())\n",
        "  accu_arr.append(accuracy(y_hat, Y_train))\n",
        "\n",
        "  with torch.no_grad():\n",
        "    weights1 -= weights1.grad * learning_rate\n",
        "    bias1 -= bias1.grad * learning_rate\n",
        "    weights2 -= weights2.grad * learning_rate\n",
        "    bias2 -= bias2.grad * learning_rate\n",
        "\n",
        "    weights1.grad.zero_()\n",
        "    bias1.grad.zero_()\n",
        "    weights2.grad.zero_()\n",
        "    bias2.grad.zero_()\n",
        "\n",
        "plt.plot(loss_arr,'r-')\n",
        "plt.plot(accu_arr,'b-')\n",
        "plt.show()\n",
        "\n",
        "print('loss before training:', loss_arr[0])\n",
        "print('loss after training:', loss_arr[-1])"
      ],
      "execution_count": 17,
      "outputs": [
        {
          "output_type": "display_data",
          "data": {
            "image/png": "[encoded data removed]",
            "text/plain": [
              "<Figure size 432x288 with 1 Axes>"
            ]
          },
          "metadata": {
            "tags": []
          }
        },
        {
          "output_type": "stream",
          "text": [
            "loss before training: 1.4111980199813843\n",
            "loss after training: 0.8700680136680603\n"
          ],
          "name": "stdout"
        }
      ]
    },
    {
      "cell_type": "markdown",
      "metadata": {
        "id": "0z8VSgvMXVLS",
        "colab_type": "text"
      },
      "source": [
        "# using NN.Parameter"
      ]
    },
    {
      "cell_type": "markdown",
      "metadata": {
        "id": "9zx03SIVo57F",
        "colab_type": "text"
      },
      "source": [
        "## defining the class using nn module"
      ]
    },
    {
      "cell_type": "code",
      "metadata": {
        "id": "yy-zn8dARGp6",
        "colab_type": "code",
        "colab": {}
      },
      "source": [
        "import torch.nn as nn"
      ],
      "execution_count": 0,
      "outputs": []
    },
    {
      "cell_type": "code",
      "metadata": {
        "id": "xTjMqBYVXhFz",
        "colab_type": "code",
        "colab": {}
      },
      "source": [
        "class FirstNetwork(nn.Module):\n",
        "\n",
        "  def __init__(self):\n",
        "    super().__init__()\n",
        "    torch.manual_seed(0)\n",
        "    self.weights1 = nn.Parameter(torch.randn(2,2)/ math.sqrt(2))\n",
        "    self.bias1 = nn.Parameter(torch.zeros(2))\n",
        "    self.weights2 = nn.Parameter(torch.randn(2,4)/ math.sqrt(2))\n",
        "    self.bias2 = nn.Parameter(torch.zeros(4))\n",
        "  \n",
        "  def forward(self, X):\n",
        "    a1 = torch.matmul(X , self.weights1) + self.bias1\n",
        "    h1 = a1.sigmoid()\n",
        "    a2 = torch.matmul(h1, self.weights2) + self.bias2\n",
        "    h2 = a2.exp()/a2.exp().sum(-1).unsqueeze(-1)\n",
        "    return h2"
      ],
      "execution_count": 0,
      "outputs": []
    },
    {
      "cell_type": "markdown",
      "metadata": {
        "id": "IYMhjFtPpEwE",
        "colab_type": "text"
      },
      "source": [
        "## defining the fit function"
      ]
    },
    {
      "cell_type": "code",
      "metadata": {
        "id": "SacpPeEubUgf",
        "colab_type": "code",
        "colab": {}
      },
      "source": [
        "def fit(epochs=1000, learning_rate=1):\n",
        "  loss_arr=[]\n",
        "  acc_arr=[]\n",
        "\n",
        "  for epoch in range(epochs):\n",
        "    y_hat = fn(X_train)\n",
        "    loss = F.cross_entropy(y_hat, Y_train)\n",
        "    loss_arr.append(loss.item())\n",
        "    acc_arr.append(accuracy(y_hat, Y_train))\n",
        "    loss.backward()\n",
        "\n",
        "    with torch.no_grad():\n",
        "      for param in fn.parameters():\n",
        "        param -= learning_rate * param.grad\n",
        "      fn.zero_grad()\n",
        "\n",
        "  plt.plot(loss_arr, 'r-')\n",
        "  plt.plot(acc_arr, 'b-')\n",
        "\n",
        "  print('loss before training:', loss_arr[0])\n",
        "  print('loss after training:', loss_arr[-1])\n"
      ],
      "execution_count": 0,
      "outputs": []
    },
    {
      "cell_type": "markdown",
      "metadata": {
        "id": "BhnAUCqypK-L",
        "colab_type": "text"
      },
      "source": [
        "## calculating the loss and plotting"
      ]
    },
    {
      "cell_type": "code",
      "metadata": {
        "id": "hm-orpHUeFtf",
        "colab_type": "code",
        "colab": {
          "base_uri": "https://localhost:8080/",
          "height": 300
        },
        "outputId": "92f91581-26b7-4476-84b0-36b4dcb0d4ac"
      },
      "source": [
        "fn = FirstNetwork()\n",
        "fit(epochs=10000, learning_rate=2)"
      ],
      "execution_count": 21,
      "outputs": [
        {
          "output_type": "stream",
          "text": [
            "loss before training: 1.4111980199813843\n",
            "loss after training: 0.8313189148902893\n"
          ],
          "name": "stdout"
        },
        {
          "output_type": "display_data",
          "data": {
            "image/png": "[encoded data removed]",
            "text/plain": [
              "<Figure size 432x288 with 1 Axes>"
            ]
          },
          "metadata": {
            "tags": []
          }
        }
      ]
    },
    {
      "cell_type": "markdown",
      "metadata": {
        "id": "z_XfRiBKfS1L",
        "colab_type": "text"
      },
      "source": [
        "# Using nn.Linear and Optim"
      ]
    },
    {
      "cell_type": "markdown",
      "metadata": {
        "id": "yMNdSZqppU8n",
        "colab_type": "text"
      },
      "source": [
        "## defining the class for forward pass using nn.Linear"
      ]
    },
    {
      "cell_type": "code",
      "metadata": {
        "id": "i3DXYWOWfQlE",
        "colab_type": "code",
        "colab": {}
      },
      "source": [
        "class FirstNetwork_V1(nn.Module):\n",
        "  def __init__(self):\n",
        "    super().__init__()\n",
        "    torch.manual_seed(0)\n",
        "    self.lin1 = nn.Linear(2,2)\n",
        "    self.lin2 = nn.Linear(2,4)\n",
        "\n",
        "  def forward(self,X):\n",
        "    a1 = self.lin1(X)\n",
        "    h1 = a1.sigmoid()\n",
        "    a2 = self.lin2(h1)\n",
        "    h2 = a2.exp()/a2.exp().sum(-1).unsqueeze(-1)\n",
        "    return h2"
      ],
      "execution_count": 0,
      "outputs": []
    },
    {
      "cell_type": "markdown",
      "metadata": {
        "id": "CsRarNktpb_o",
        "colab_type": "text"
      },
      "source": [
        "## calculating the loss and plotting"
      ]
    },
    {
      "cell_type": "code",
      "metadata": {
        "id": "FvuYntnrO81c",
        "colab_type": "code",
        "colab": {
          "base_uri": "https://localhost:8080/",
          "height": 300
        },
        "outputId": "e6e6f5a3-0d6b-45ae-da2b-d3c3ec053fed"
      },
      "source": [
        "fn = FirstNetwork_V1()\n",
        "fit(epochs=1200, learning_rate=1)"
      ],
      "execution_count": 32,
      "outputs": [
        {
          "output_type": "stream",
          "text": [
            "loss before training: 1.395160436630249\n",
            "loss after training: 0.8692107200622559\n"
          ],
          "name": "stdout"
        },
        {
          "output_type": "display_data",
          "data": {
            "image/png": "[encoded data removed]",
            "text/plain": [
              "<Figure size 432x288 with 1 Axes>"
            ]
          },
          "metadata": {
            "tags": []
          }
        }
      ]
    },
    {
      "cell_type": "markdown",
      "metadata": {
        "id": "89Hqs4CvpftR",
        "colab_type": "text"
      },
      "source": [
        "## importing the library for optim"
      ]
    },
    {
      "cell_type": "code",
      "metadata": {
        "id": "cjX7I6qEQR-0",
        "colab_type": "code",
        "colab": {}
      },
      "source": [
        "from torch import optim"
      ],
      "execution_count": 0,
      "outputs": []
    },
    {
      "cell_type": "markdown",
      "metadata": {
        "id": "bG26SH8Jpkhb",
        "colab_type": "text"
      },
      "source": [
        "## defining the fit function using Stochastic Gradient Descent"
      ]
    },
    {
      "cell_type": "code",
      "metadata": {
        "id": "DKBTIU2UQYxB",
        "colab_type": "code",
        "colab": {}
      },
      "source": [
        "def fit_v1(epochs=1000,learning_rate=1):\n",
        "  loss_arr = []\n",
        "  acc_arr = []\n",
        "\n",
        "  opt = optim.SGD(fn.parameters(),lr=learning_rate)\n",
        "\n",
        "  for epoch in range(epochs):\n",
        "    y_hat = fn(X_train)\n",
        "    loss = F.cross_entropy(y_hat, Y_train)\n",
        "    loss_arr.append(loss.item())\n",
        "    acc_arr.append(accuracy(y_hat,Y_train))\n",
        "\n",
        "    loss.backward()\n",
        "    opt.step()\n",
        "    opt.zero_grad()\n",
        "\n",
        "  plt.plot(loss_arr,'r-')\n",
        "  plt.plot(acc_arr,'b-')\n",
        "  plt.show()\n",
        "\n",
        "  print('loss before training:',loss_arr[0])\n",
        "  print('loss after training:', loss_arr[-1])\n"
      ],
      "execution_count": 0,
      "outputs": []
    },
    {
      "cell_type": "markdown",
      "metadata": {
        "id": "njZduyTTpuJT",
        "colab_type": "text"
      },
      "source": [
        "## calculating the loss and plotting"
      ]
    },
    {
      "cell_type": "code",
      "metadata": {
        "id": "DO7BO9A8Wy6e",
        "colab_type": "code",
        "colab": {
          "base_uri": "https://localhost:8080/",
          "height": 300
        },
        "outputId": "11ea76be-25e8-4fdf-d292-eee22c562635"
      },
      "source": [
        "fn = FirstNetwork_V1()\n",
        "fit_v1(epochs=1200,learning_rate=0.95)"
      ],
      "execution_count": 48,
      "outputs": [
        {
          "output_type": "display_data",
          "data": {
            "image/png": "[encoded data removed]",
            "text/plain": [
              "<Figure size 432x288 with 1 Axes>"
            ]
          },
          "metadata": {
            "tags": []
          }
        },
        {
          "output_type": "stream",
          "text": [
            "loss before training: 1.395160436630249\n",
            "loss after training: 0.8704349994659424\n"
          ],
          "name": "stdout"
        }
      ]
    },
    {
      "cell_type": "markdown",
      "metadata": {
        "id": "If0m3v5yXus7",
        "colab_type": "text"
      },
      "source": [
        "# Using NN.Sequential"
      ]
    },
    {
      "cell_type": "markdown",
      "metadata": {
        "id": "KEAqVPv_pyVd",
        "colab_type": "text"
      },
      "source": [
        "## defining the class for forward propogation using nn.sequential"
      ]
    },
    {
      "cell_type": "code",
      "metadata": {
        "id": "kad4b7paXjZj",
        "colab_type": "code",
        "colab": {}
      },
      "source": [
        "class FirstNetwork_V2(nn.Module):\n",
        "\n",
        "  def __init__(self):\n",
        "    super().__init__()\n",
        "    torch.manual_seed(0)\n",
        "    self.net = nn.Sequential(\n",
        "        nn.Linear(2,2),\n",
        "        nn.Sigmoid(),\n",
        "        nn.Linear(2,4),\n",
        "        nn.Softmax(dim=1)\n",
        "    )\n",
        "    \n",
        "  def forward(self,X):\n",
        "    return self.net(X)"
      ],
      "execution_count": 0,
      "outputs": []
    },
    {
      "cell_type": "markdown",
      "metadata": {
        "id": "wb8lm5rop5jN",
        "colab_type": "text"
      },
      "source": [
        "## calculating the loss and plotting"
      ]
    },
    {
      "cell_type": "code",
      "metadata": {
        "id": "6FTXqfElZS99",
        "colab_type": "code",
        "colab": {
          "base_uri": "https://localhost:8080/",
          "height": 300
        },
        "outputId": "218171d0-d344-4135-8d39-a9f9c85828bf"
      },
      "source": [
        "fn = FirstNetwork_V2()\n",
        "fit_v1(epochs=1500,learning_rate=0.80)"
      ],
      "execution_count": 69,
      "outputs": [
        {
          "output_type": "display_data",
          "data": {
            "image/png": "[encoded data removed]",
            "text/plain": [
              "<Figure size 432x288 with 1 Axes>"
            ]
          },
          "metadata": {
            "tags": []
          }
        },
        {
          "output_type": "stream",
          "text": [
            "loss before training: 1.395160436630249\n",
            "loss after training: 0.8692190051078796\n"
          ],
          "name": "stdout"
        }
      ]
    },
    {
      "cell_type": "markdown",
      "metadata": {
        "id": "Z8P0qf7Ap_J3",
        "colab_type": "text"
      },
      "source": [
        "##defining the fit function using optim"
      ]
    },
    {
      "cell_type": "code",
      "metadata": {
        "id": "OVRlXdH5ZnrZ",
        "colab_type": "code",
        "colab": {}
      },
      "source": [
        "def fit_V2(x,y, model, opt, loss_fn, epochs=1200):\n",
        "  for epoch in range(epochs):\n",
        "    loss = loss_fn(model(x),y)\n",
        "    \n",
        "    loss.backward()\n",
        "    opt.step()\n",
        "    opt.zero_grad()\n",
        "  \n",
        "  return loss.item()   "
      ],
      "execution_count": 0,
      "outputs": []
    },
    {
      "cell_type": "markdown",
      "metadata": {
        "id": "tUW0ttdQqE1K",
        "colab_type": "text"
      },
      "source": [
        "##calculating the loss"
      ]
    },
    {
      "cell_type": "code",
      "metadata": {
        "id": "oO-5E-8JajCh",
        "colab_type": "code",
        "colab": {
          "base_uri": "https://localhost:8080/",
          "height": 35
        },
        "outputId": "17e7e8ef-502d-4845-f2ba-d14f6b5bc585"
      },
      "source": [
        "fn = FirstNetwork_V2()\n",
        "loss_fn = F.cross_entropy\n",
        "opt = optim.SGD(fn.parameters(), lr=0.95)\n",
        "fit_V2(X_train, Y_train, fn, opt, loss_fn)"
      ],
      "execution_count": 71,
      "outputs": [
        {
          "output_type": "execute_result",
          "data": {
            "text/plain": [
              "0.8704349994659424"
            ]
          },
          "metadata": {
            "tags": []
          },
          "execution_count": 71
        }
      ]
    },
    {
      "cell_type": "markdown",
      "metadata": {
        "id": "9USlTWrRdRpg",
        "colab_type": "text"
      },
      "source": [
        "#Running on GPU"
      ]
    },
    {
      "cell_type": "markdown",
      "metadata": {
        "id": "t0-nCAorqIEg",
        "colab_type": "text"
      },
      "source": [
        "## identifying the device type"
      ]
    },
    {
      "cell_type": "code",
      "metadata": {
        "id": "izgYOUBmqO_y",
        "colab_type": "code",
        "colab": {}
      },
      "source": [
        "device = torch.device(\"cuda\")"
      ],
      "execution_count": 0,
      "outputs": []
    },
    {
      "cell_type": "markdown",
      "metadata": {
        "id": "V3gCbAn9qQNC",
        "colab_type": "text"
      },
      "source": [
        "## Calculating the time of execution while on GPU"
      ]
    },
    {
      "cell_type": "code",
      "metadata": {
        "id": "Z_IN68jFdQYh",
        "colab_type": "code",
        "colab": {
          "base_uri": "https://localhost:8080/",
          "height": 52
        },
        "outputId": "3dc52f8f-ee1b-4ab5-ac03-2505c09c7388"
      },
      "source": [
        "X_train = X_train.to(device)\n",
        "Y_train = Y_train.to(device)\n",
        "fn = FirstNetwork_V2()\n",
        "fn.to(device)\n",
        "tic = time.time()\n",
        "print(\"Final Loss:\", fit_V2(X_train, Y_train, fn, opt, loss_fn, epochs=1200))\n",
        "toe = time.time()\n",
        "print(\"time taken:\", toe - tic)"
      ],
      "execution_count": 79,
      "outputs": [
        {
          "output_type": "stream",
          "text": [
            "Final Loss: 1.3951594829559326\n",
            "time taken: 1.1031529903411865\n"
          ],
          "name": "stdout"
        }
      ]
    },
    {
      "cell_type": "markdown",
      "metadata": {
        "id": "Ku7E2ij1qjP6",
        "colab_type": "text"
      },
      "source": [
        "## defining more complex model sequential with 1024*4 neurons "
      ]
    },
    {
      "cell_type": "code",
      "metadata": {
        "id": "4gb_E3kmhXSR",
        "colab_type": "code",
        "colab": {}
      },
      "source": [
        "class FirstNetwork_V3(nn.Module):\n",
        "\n",
        "  def __init__(self):\n",
        "    super().__init__()\n",
        "    torch.manual_seed(0)\n",
        "    self.net = nn.Sequential(\n",
        "        nn.Linear(2,1024*4),\n",
        "        nn.Sigmoid(),\n",
        "        nn.Linear(1024*4,4),\n",
        "        nn.Softmax(dim=1)\n",
        "    )\n",
        "  \n",
        "  def forward(self,X):\n",
        "    return self.net(X)"
      ],
      "execution_count": 0,
      "outputs": []
    },
    {
      "cell_type": "markdown",
      "metadata": {
        "id": "DK-Vz4EQqvz2",
        "colab_type": "text"
      },
      "source": [
        "##calculating the loss and time taken "
      ]
    },
    {
      "cell_type": "code",
      "metadata": {
        "id": "sxBnsvkAiJBk",
        "colab_type": "code",
        "colab": {
          "base_uri": "https://localhost:8080/",
          "height": 52
        },
        "outputId": "a2f6a00c-fbf2-4c5e-f0f4-06c2d5d31cba"
      },
      "source": [
        "device = torch.device('cuda')\n",
        "X_train = X_train.to(device)\n",
        "Y_train = Y_train.to(device)\n",
        "fn = FirstNetwork_V3()\n",
        "fn.to(device)\n",
        "tic = time.time()\n",
        "print(\"Final Loss is:\", fit_V2(X_train, Y_train, fn,opt,loss_fn, epochs=2000))\n",
        "toe = time.time()\n",
        "print('time taken is:', toe - tic)"
      ],
      "execution_count": 82,
      "outputs": [
        {
          "output_type": "stream",
          "text": [
            "Final Loss is: 1.3890228271484375\n",
            "time taken is: 1.7997560501098633\n"
          ],
          "name": "stdout"
        }
      ]
    }
  ]
}